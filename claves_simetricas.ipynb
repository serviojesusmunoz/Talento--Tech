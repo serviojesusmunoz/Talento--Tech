{
  "cells": [
    {
      "cell_type": "markdown",
      "metadata": {
        "id": "view-in-github",
        "colab_type": "text"
      },
      "source": [
        "<a href=\"https://colab.research.google.com/github/serviojesusmunoz/Talento--Tech/blob/main/claves_simetricas.ipynb\" target=\"_parent\"><img src=\"https://colab.research.google.com/assets/colab-badge.svg\" alt=\"Open In Colab\"/></a>"
      ]
    },
    {
      "cell_type": "code",
      "execution_count": 2,
      "outputs": [],
      "source": [
        "# bibliotecas\n",
        "\n",
        "from cryptography.fernet import Fernet\n",
        "import os"
      ],
      "metadata": {
        "ExecuteTime": {
          "end_time": "2025-01-20T05:40:17.476519600Z",
          "start_time": "2025-01-20T05:40:17.466396300Z"
        },
        "id": "Vj5nuel7RmSR"
      }
    },
    {
      "cell_type": "code",
      "execution_count": 3,
      "outputs": [],
      "source": [
        "def generar_clave(carpeta):\n",
        "    \"\"\"\n",
        "    Función para generar una clave simétrica en un archivo\n",
        "    \"\"\"\n",
        "    clave = Fernet.generate_key()\n",
        "    ruta = os.path.join(carpeta, \"clave_simetrica.key\")\n",
        "    with open(ruta, \"wb\") as clave_archivo:\n",
        "        clave_archivo.write(clave)\n",
        "    print(f\"Clave simétrica generada y guardada en {ruta}\")\n",
        "    return ruta # entregar la ruta completa después de generarla\n",
        "\n",
        "\n"
      ],
      "metadata": {
        "ExecuteTime": {
          "end_time": "2025-01-20T05:40:17.911797400Z",
          "start_time": "2025-01-20T05:40:17.904227300Z"
        },
        "id": "Iz-o2AQrRmSj"
      }
    },
    {
      "cell_type": "code",
      "execution_count": 4,
      "outputs": [],
      "source": [
        "# Cargar la clave desde el archivo\n",
        "def cargar_clave(ruta):\n",
        "    \"\"\"Carga la clave simétrica desde un archivo.\"\"\"\n",
        "    with open(ruta, \"rb\") as clave_archivo:\n",
        "        return clave_archivo.read()\n",
        "\n",
        "# Cifrar un mensaje\n",
        "def cifrar_mensaje(mensaje, clave):\n",
        "    \"\"\"Cifra un mensaje utilizando la clave simétrica.\"\"\"\n",
        "    fernet = Fernet(clave)\n",
        "    mensaje_cifrado = fernet.encrypt(mensaje.encode())\n",
        "    return mensaje_cifrado"
      ],
      "metadata": {
        "ExecuteTime": {
          "end_time": "2025-01-20T05:40:18.266183800Z",
          "start_time": "2025-01-20T05:40:18.249585800Z"
        },
        "id": "lXzGOA5jRmSt"
      }
    },
    {
      "cell_type": "code",
      "execution_count": 11,
      "outputs": [],
      "source": [
        "# Descifrar un mensaje\n",
        "def descifrar_mensaje(mensaje_cifrado, clave):\n",
        "    \"\"\"Descifra un mensaje cifrado utilizando la clave simétrica.\"\"\"\n",
        "    fernet = Fernet(clave)\n",
        "    mensaje_descifrado = fernet.decrypt(mensaje_cifrado).decode()\n",
        "    return mensaje_descifrado\n"
      ],
      "metadata": {
        "ExecuteTime": {
          "end_time": "2025-01-20T05:40:18.590614Z",
          "start_time": "2025-01-20T05:40:18.574573800Z"
        },
        "id": "0k1FZN_mRmS9"
      }
    },
    {
      "cell_type": "code",
      "execution_count": 9,
      "outputs": [
        {
          "output_type": "stream",
          "name": "stdout",
          "text": [
            "Clave simétrica generada y guardada en ./clave_simetrica.key\n",
            "Clave cargada: V_8l0XnVCnt9r9RFQIwv6TA7TEs2mM7sD1Pp_QLjh5Y=\n"
          ]
        }
      ],
      "source": [
        "ruta_clave = generar_clave(\"./\") # generar la clave en la carpeta de trabajo\n",
        "clave = cargar_clave(ruta_clave)\n",
        "print(f\"Clave cargada: {clave.decode()}\")\n",
        "\n",
        "# ahora cifrar un mensaje:\n",
        "mensaje = \"Había una vez una joven lechera que caminaba con un cántaro de leche para vender en el mercado del pueblo. Mientras caminaba pensaba en todas las cosas que haría con el dinero de la venta: —Cuando me paguen —se dijo—, compraré de inmediato unas gallinas, estas gallinas pondrán muchísimos huevos y los venderé en el mercado. Con el dinero de los huevos me compraré un vestido y zapatos muy elegantes. Luego, iré a la feria y como luciré tan hermosa, todos los chicos querrán acercarse a hablar conmigo. Por andar distraída con sus pensamientos, la lechera tropezó con una piedra y el cántaro se rompió derramando toda la leche. Con el cántaro destrozado se fueron las gallinas y los huevos; también el vestido y los zapatos.\"\n",
        "\n",
        "\n"
      ],
      "metadata": {
        "ExecuteTime": {
          "end_time": "2025-01-20T05:40:19.432247300Z",
          "start_time": "2025-01-20T05:40:19.419153600Z"
        },
        "id": "bGF2AD_ORmTG",
        "outputId": "c42ee2aa-42ca-41d2-ae34-70028392799e",
        "colab": {
          "base_uri": "https://localhost:8080/"
        }
      }
    },
    {
      "cell_type": "code",
      "execution_count": 10,
      "outputs": [
        {
          "output_type": "stream",
          "name": "stdout",
          "text": [
            "Mensaje cifrado: gAAAAABoP5OctaEcWSl3-rBuB_2NhTZIDUn-rDpU28DzXZdPWG-lYYjuCkJEojl59VEe9OPFrjup8nzj86Pm8ySqsj8he4gGyS3jxSxTNvw73PsD157atfpxxJcl7Gp74ph0UhyRcz1jIJzNf1eKeUUCZdhgVGhQGA7AMe6OiG-1NgZnubNBTDhgWJYd0onv6i9Hlqy3n6TwUc8dw7HmvvDL8NzU4grJIP3mUuQK_A--ph1DuWLZK1XEeY57djJMjOzvt5o75Jzc71t2weVInzGSpaYHBTAtZZ87q7Wynx7q4rFtLOY21JlHsY-si78qhamgzyIpFj6hbaZEyJVgpPqlx23PCQdwf0jsfmF0CpbEOa9pO1cCsdrWeuu6XE4tdPDJ6l2plfUOkbjZMM7BnZD6_UfC8C6qCmXxYFU3iz-04TjttKaD5k4eg7K50LwTBUcoLeFr9FLivhGZxxi6YssK-HPLwviA-U2a-J1aUflV4kTnwHLSk0PlHrs50X_3z3_CdDaV1Fg2LUhWYOOe7nzVVobOvaMKfHOINxgcCQ1AkTaBXZnCRGZRkH6FuBCiOsgh6xjeSMOYzvLHQ51p5NzJ4OQ6D_Nm-mL1lgYCNP4hrQFr6I_I3ttB9hYQ1gb6_iZ6p09FlczmQog5GeBp4QhdENdHw_ghgyDCdaF_9gAtznkNVRNJ9DJWDwtr6k6ygVUFXNxKV8i1uHuh-V027boSaScy6QDf5Y_Bt7bOyQY_rvykHUoGYhDEn8jZndhbDiHoSDFsRfbfQWde5uFPWQuYoy1cpdVmluoqgYdER5w63qliWvm9dPCaujnNxihOl6DmKBgw-Ea39FZBqxc-NqDWL2YUZomcS4dA5QqX0j4q6DAWsS_HPYdWXzHdUJlpvnpSdhXT6nbaKMKayaL-YxKWGt9pAlUCEmbN3kFQitaWG8WghwwvrlZT_qr5V9jKeRP80b0_6Y6sj5amXigQZs4SKkoNRMFalUu-C3TvuB5z3BHljnVfUnohkEpxuG84dBRkmMVndnar3tcT2F6BX4JtlA015e-gAq9B8bnpwPyHyFtbJeGuN0w=\n"
          ]
        }
      ],
      "source": [
        "# cifrar y guardar el mensaje para compartirlo\n",
        "mensaje_cifrado = cifrar_mensaje(mensaje, clave)\n",
        "print(f\"Mensaje cifrado: {mensaje_cifrado.decode()}\")\n",
        "with open(\"mensaje.txt\", \"wb\") as file:\n",
        "    file.write(mensaje_cifrado)"
      ],
      "metadata": {
        "ExecuteTime": {
          "end_time": "2025-01-20T05:41:49.076893900Z",
          "start_time": "2025-01-20T05:41:49.062289200Z"
        },
        "id": "nbBqf6cJRmTP",
        "outputId": "dedd6e75-5d91-4126-f45d-f646b77a72ce",
        "colab": {
          "base_uri": "https://localhost:8080/"
        }
      }
    },
    {
      "cell_type": "code",
      "execution_count": 8,
      "outputs": [
        {
          "output_type": "stream",
          "name": "stdout",
          "text": [
            "b'gAAAAABoP5HX8FmudokKE9UfJew522Gv7xdLEwjotxJJZeBdnhtQHisYIw8jAJEUAElKxpHoFk6ToIW8D8bgNbs9lS0FmfvshTmRPfwgZZ2ouJyB7Aaw5HkBTMkLadbajzgJ5AUfOegJu36XEJhKAjwfe-mAQRCNSr9Cxicnm_UBu60QFYYflokAhTK8mV3_eUuAhnSiahopds7sn5WpFeHnQQDf9vh71TMD3myAAQGwLT4w2z3hQaTbeAKX_9rpVKEwT4opgoPZzp-6YFNBhNMcHdwd_lUbWHaD5XI4rpEIkMtdcXvHBshe2B0NSpsKaIOoR97293h6C9kLYn7Yx6C63JUWQZPfJC22HUIN2cZXLeaDxHm68amyWLwyaenb6uHfoKqMDGXja33ffVsMsFoMe36RE4T5gdI2afq0ZRPkBuhdL_ndrvatK_2sFCyxEradxoG2s4nwB4Cvwn5qrhnvvRYuNEVdVb9Muqlwzo8IG59G3GfJ1OK_Nd-BNtM--p-BI6RihZOUwKqgp8nJ-kC0Jm6KYHhnMSEN9Tohkf15uJ3fBvioxq0YayzjQLuACzY6WpAc8D2SBn28H8NDY0hn-0NWjUHqMGnoFuVg5b-zAeFOTRsgRlFsxFp-g4cdWTBTS9kURUaDLp9PDnffzzQskIX097hR7i8wjfpqOISoXc_ONOuFVenExEMk7kF56rCUxaEGrw1khk4fft7TbB1iy0AYg9aC6NhW_15aBAMweyl1ErB3ySJVQ5sQcUxas8ebPQBYYs6P--iwxTs7XC8V1FIm8KyeL2q7GV_rvvTU3IroOyQbXmVgZ4CGoCSQ_A6nRLzaTZg0d-BMsi_prP4ncf-jm3VhQTbxEocxrSmNNnEj0decYHk5_nB2nLNzaNbjvtqLE8Xn42J_LpHYPP3s8MZdraNzbFtksIU7tvHhAqHVocFRvXw26lVXMJXg8xTPFhjOE6K1QEgRUd_yy8alZ_a3A4tFF3VynWbzv_eceEQ0yqG0DthAaFfNn-dnUmQpjfksSD4023bOJY8MPN27xKEj4_Od63Ey5MMBQsdhH83tcAuxitI='\n",
            "Mensaje descifrado: Había una vez una joven lechera que caminaba con un cántaro de leche para vender en el mercado del pueblo. Mientras caminaba pensaba en todas las cosas que haría con el dinero de la venta: —Cuando me paguen —se dijo—, compraré de inmediato unas gallinas, estas gallinas pondrán muchísimos huevos y los venderé en el mercado. Con el dinero de los huevos me compraré un vestido y zapatos muy elegantes. Luego, iré a la feria y como luciré tan hermosa, todos los chicos querrán acercarse a hablar conmigo. Por andar distraída con sus pensamientos, la lechera tropezó con una piedra y el cántaro se rompió derramando toda la leche. Con el cántaro destrozado se fueron las gallinas y los huevos; también el vestido y los zapatos.\n"
          ]
        }
      ],
      "source": [
        "# abrir el mensaje y descifrarlo\n",
        "with open(\"mensaje.txt\", \"rb\") as file:\n",
        "    mensaje_leido = file.read()\n",
        "print(mensaje_leido)\n",
        "\n",
        "mensaje_descifrado = descifrar_mensaje(mensaje_cifrado, clave)\n",
        "print(f\"Mensaje descifrado: {mensaje_descifrado}\")"
      ],
      "metadata": {
        "ExecuteTime": {
          "end_time": "2025-01-20T05:43:16.500136600Z",
          "start_time": "2025-01-20T05:43:16.492089800Z"
        },
        "id": "cQS5DRNaRmTT",
        "outputId": "e974730f-785e-41d0-dbaf-641888735bf2",
        "colab": {
          "base_uri": "https://localhost:8080/"
        }
      }
    },
    {
      "cell_type": "code",
      "execution_count": 8,
      "outputs": [],
      "source": [],
      "metadata": {
        "id": "IT17SbNgRmTW"
      }
    }
  ],
  "metadata": {
    "kernelspec": {
      "display_name": "Python 3",
      "language": "python",
      "name": "python3"
    },
    "language_info": {
      "codemirror_mode": {
        "name": "ipython",
        "version": 2
      },
      "file_extension": ".py",
      "mimetype": "text/x-python",
      "name": "python",
      "nbconvert_exporter": "python",
      "pygments_lexer": "ipython2",
      "version": "2.7.6"
    },
    "colab": {
      "provenance": [],
      "include_colab_link": true
    }
  },
  "nbformat": 4,
  "nbformat_minor": 0
}