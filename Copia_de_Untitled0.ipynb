{
  "nbformat": 4,
  "nbformat_minor": 0,
  "metadata": {
    "colab": {
      "provenance": [],
      "authorship_tag": "ABX9TyOzGtlzrh3I2mrzxKmtHyvy",
      "include_colab_link": true
    },
    "kernelspec": {
      "name": "python3",
      "display_name": "Python 3"
    },
    "language_info": {
      "name": "python"
    }
  },
  "cells": [
    {
      "cell_type": "markdown",
      "metadata": {
        "id": "view-in-github",
        "colab_type": "text"
      },
      "source": [
        "<a href=\"https://colab.research.google.com/github/serviojesusmunoz/Talento--Tech/blob/main/Copia_de_Untitled0.ipynb\" target=\"_parent\"><img src=\"https://colab.research.google.com/assets/colab-badge.svg\" alt=\"Open In Colab\"/></a>"
      ]
    },
    {
      "cell_type": "code",
      "execution_count": null,
      "metadata": {
        "id": "mPwiYPVDLJp8"
      },
      "outputs": [],
      "source": [
        "import pandas as pd\n",
        "def cifrar_cesar (texto, clave):\n",
        "  resultado = ''\n",
        "  for char in texto:\n",
        "    if char.isalpha():\n",
        "      if char.isupper():\n",
        "       base = ord('A')\n",
        "      else:\n",
        "       base = ord('a')\n",
        "       resultado += chr((ord(char) - base + clave) % 26 + base)\n",
        "    else:\n",
        "        resultado += char\n",
        "        return resultado\n",
        "    def decifrar_cesar(texto,clave):\n",
        "     return cifrar_cesar(texto, -clave)\n",
        "\n",
        "  mensajes = [\"hola\", \"me gusta cripto\", \"cifrado\", \"clave secreta\", \"Python\", \"mensaje\", \"openai\", \"data\", \"mensaje 2\", \"hola mundo\"]\n",
        "  claves = [1, 3, 4, 2, 5, 6, 2, 1, 3, 7]\n",
        "\n",
        "  df = pd.DataFrame({\"msj_original\": mensajes, \"clave\":claves})\n",
        "\n",
        "  df[\"msj_cifrado\"] = df.apply(lambda row:cifrar_cesar(row[\"msj_original\"],row[\"clave\"]), axis=1)\n",
        "  df[\"msj_descifrado\"] = df.apply(lambda row: decifrar_cesar(row[\"msj_cifrado\"], row[\"clave\"]), axis=1)\n",
        "\n",
        "  print(df)\n",
        "\n"
      ]
    },
    {
      "cell_type": "code",
      "source": [
        "numeros=[0,1,2,3,4,5,6,7,8,9,10]\n",
        "pares=filter(lambda x: x % 2==0, numeros)\n",
        "print(list(pares))\n"
      ],
      "metadata": {
        "colab": {
          "base_uri": "https://localhost:8080/"
        },
        "id": "EN2jxz27IaSR",
        "outputId": "d28f3831-550d-426b-89f3-d033d2dfee14"
      },
      "execution_count": null,
      "outputs": [
        {
          "output_type": "stream",
          "name": "stdout",
          "text": [
            "[0, 2, 4, 6, 8, 10]\n"
          ]
        }
      ]
    },
    {
      "cell_type": "code",
      "source": [
        "numeros=[0,1,2,3,4,5,6,7,8,9,10]\n",
        "impares=filter(lambda x: x % 2==0, numeros)\n",
        "print(list(impares))"
      ],
      "metadata": {
        "colab": {
          "base_uri": "https://localhost:8080/"
        },
        "id": "G5nUBemtJQ8u",
        "outputId": "065c696d-9c62-4f92-a506-1c3438482586"
      },
      "execution_count": null,
      "outputs": [
        {
          "output_type": "stream",
          "name": "stdout",
          "text": [
            "[0, 2, 4, 6, 8, 10]\n"
          ]
        }
      ]
    },
    {
      "cell_type": "code",
      "source": [
        "import string\n",
        "from itertools import product\n",
        "\n",
        "def vigenere_descifrar(mensaje, clave):\n",
        "    alfabeto = string.ascii_lowercase\n",
        "    mensaje = mensaje.lower()\n",
        "    clave = clave.lower()\n",
        "    resultado = ''\n",
        "    clave_repetida = (clave * (len(mensaje) // len(clave) + 1))[:len(mensaje)]\n",
        "\n",
        "    for c, k in zip(mensaje, clave_repetida):\n",
        "        if c in alfabeto:\n",
        "            desplazamiento = (alfabeto.index(c) - alfabeto.index(k)) % 26\n",
        "            resultado += alfabeto[desplazamiento]\n",
        "        else:\n",
        "            resultado += c\n",
        "    return resultado\n",
        "\n",
        "palabras_comunes = ['hola', 'este', 'texto', 'clave', 'mensaje', 'es', 'el', 'un', 'de', 'y', 'la']\n",
        "\n",
        "mensaje = \"lxfopvefrnhr\"\n",
        "\n",
        "for clave in product(string.ascii_lowercase, repeat=1):\n",
        "    clave_str = ''.join(clave)\n",
        "    descifrado = vigenere_descifrar(mensaje, clave_str)\n",
        "\n",
        "    if any(palabra in descifrado for palabra in palabras_comunes):\n",
        "        print(f'Posible clave: {clave_str} -> {descifrado}')"
      ],
      "metadata": {
        "colab": {
          "base_uri": "https://localhost:8080/"
        },
        "id": "A9sy-6R0eGHm",
        "outputId": "5cb29bd2-d95f-4f67-c021-424eb2743ebb"
      },
      "execution_count": 13,
      "outputs": [
        {
          "output_type": "stream",
          "name": "stdout",
          "text": [
            "Posible clave: b -> kwenoudeqmgq\n",
            "Posible clave: g -> frzijpyzlhbl\n",
            "Posible clave: h -> eqyhioxykgak\n",
            "Posible clave: j -> cowfgmvwieyi\n",
            "Posible clave: l -> amudektugcwg\n",
            "Posible clave: n -> yksbcirseaue\n",
            "Posible clave: p -> wiqzagpqcysc\n",
            "Posible clave: q -> vhpyzfopbxrb\n",
            "Posible clave: r -> ugoxyenoawqa\n",
            "Posible clave: t -> semvwclmyuoy\n",
            "Posible clave: x -> oairsyhiuqku\n",
            "Posible clave: z -> mygpqwfgsois\n"
          ]
        }
      ]
    },
    {
      "cell_type": "code",
      "source": [
        "from collections import Counter\n",
        "mensaje = \"lxfopvefrnhr\"\n",
        "frecuencias = Counter(mensaje)\n",
        "frecuencias_ordenadas = frecuencias.most_common()\n",
        "print(\"Frecuecia de letras en el mensaje: \")\n",
        "for letra, frecuencia in frecuencias_ordenadas:\n",
        "  print(f\"{letra}: {frecuencia}\")"
      ],
      "metadata": {
        "colab": {
          "base_uri": "https://localhost:8080/"
        },
        "id": "6F4IvQSFffM_",
        "outputId": "f364f543-187b-4245-91ef-94a4ddaefc22"
      },
      "execution_count": null,
      "outputs": [
        {
          "output_type": "stream",
          "name": "stdout",
          "text": [
            "Frecuecia de letras en el mensaje: \n",
            "f: 2\n",
            "r: 2\n",
            "l: 1\n",
            "x: 1\n",
            "o: 1\n",
            "p: 1\n",
            "v: 1\n",
            "e: 1\n",
            "n: 1\n",
            "h: 1\n"
          ]
        }
      ]
    },
    {
      "cell_type": "code",
      "source": [
        "def calculadora():\n",
        "    print(\"CALCULADORA BASICA\")\n",
        "    print(\"Operaciones disponibles: suma, resta, multiplicación, división\")\n",
        "    operacion = input(\"Ingrese la operación que deseas suma, resta, multiplicación, división: \")\n",
        "    num1 = float(input(\"Digite un número: \"))\n",
        "    num2 = float(input(\"Digite otro número: \"))\n",
        "    if operacion == \"suma\":\n",
        "        resultado = num1 + num2\n",
        "    elif operacion == \"resta\":\n",
        "        resultado = num1 - num2\n",
        "    elif operacion == \"multiplicación\":\n",
        "        resultado = num1 * num2\n",
        "    elif operacion == \"division\":\n",
        "        if num2 != 0:\n",
        "            resultado = num1 / num2\n",
        "        else:\n",
        "            resultado = \"Error: División por cero\"\n",
        "    else:\n",
        "        resultado = \"Operación no válida\"\n",
        "\n",
        "    print(\"Resultado:\", resultado)\n",
        "calculadora()\n"
      ],
      "metadata": {
        "colab": {
          "base_uri": "https://localhost:8080/"
        },
        "id": "_7qq6P2uxmTE",
        "outputId": "bc0da2fc-f95c-4f21-a98c-9426252ad150"
      },
      "execution_count": 9,
      "outputs": [
        {
          "output_type": "stream",
          "name": "stdout",
          "text": [
            "CALCULADORA BASICA\n",
            "Operaciones disponibles: suma, resta, multiplicación, división\n",
            "Ingrese la operación que deseas suma, resta, multiplicación, división: resta\n",
            "Digite un número: 543\n",
            "Digite otro número: 540\n",
            "Resultado: 3.0\n"
          ]
        }
      ]
    }
  ]
}